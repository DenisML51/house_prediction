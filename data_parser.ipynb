{
 "cells": [
  {
   "cell_type": "markdown",
   "metadata": {},
   "source": [
    "Инициализация библиотек"
   ]
  },
  {
   "cell_type": "code",
   "execution_count": 1,
   "metadata": {},
   "outputs": [],
   "source": [
    "import json\n",
    "import time\n",
    "import undetected_chromedriver as uc \n",
    "from bs4 import BeautifulSoup\n",
    "from selenium.webdriver.common.by import By\n",
    "from selenium.webdriver.common.keys import Keys\n",
    "from selenium.webdriver.support import expected_conditions as EC \n",
    "from selenium.webdriver.support.ui import WebDriverWait\n",
    "\n",
    "import pandas as pd \n",
    "import numpy as np"
   ]
  },
  {
   "cell_type": "markdown",
   "metadata": {},
   "source": [
    "Функция прокрутки страницы с шагом в 300px и интервалом 100. \n",
    "Данный код на JS позволяет парсеру прогружать всю страницу"
   ]
  },
  {
   "cell_type": "code",
   "execution_count": 4,
   "metadata": {},
   "outputs": [],
   "source": [
    "def page_down(driver):\n",
    "    driver.execute_script('''\n",
    "        const scrollStep = 300;\n",
    "        const scrollInterval = 100;\n",
    "\n",
    "        const scrollHeight = document.documentElement.scrollHeight;\n",
    "        let currentPosition = 0;\n",
    "        const interval = setInterval(() => {\n",
    "            window.scrollBy(0, scrollStep);\n",
    "            currentPosition += scrollStep;\n",
    "\n",
    "            if (currentPosition >= scrollHeight) {\n",
    "                clearInterval(interval);\n",
    "            }\n",
    "        }, scrollInterval);\n",
    "    ''')\n"
   ]
  },
  {
   "cell_type": "markdown",
   "metadata": {},
   "source": [
    "Далее требуется собрать ссылки на товары. Парсер заходит на главную страницу по продажи недвижимости на вторичном рынке, прогружает всю страницу и сохраняет все ссылки на конкретные товары, потом переходит на другую страницу и делает то же самое. Количество просматриваемых страниц настраивается путем изменения параметра \"pages\""
   ]
  },
  {
   "cell_type": "code",
   "execution_count": 5,
   "metadata": {},
   "outputs": [],
   "source": [
    "def get_urls(link, pages=5):\n",
    "    driver = uc.Chrome()\n",
    "    driver.implicitly_wait(5)\n",
    "    \n",
    "    all_urls = []\n",
    "    \n",
    "    try:\n",
    "        for page in range(1, pages + 1):\n",
    "            page_link = f\"{link}?page={page}\"\n",
    "            driver.get(url=page_link)\n",
    "            time.sleep(2)\n",
    "            \n",
    "            page_down(driver=driver)\n",
    "            time.sleep(4)\n",
    "            \n",
    "            find_links = driver.find_elements(By.CLASS_NAME, 'a4tiB2')\n",
    "            urls = [f'{link.get_attribute(\"href\")}' for link in find_links]\n",
    "            all_urls.extend(urls)\n",
    "    \n",
    "    finally:\n",
    "        driver.quit()\n",
    "\n",
    "    unique_urls = list(set(all_urls))\n",
    "    urls_dict = {k: v for k, v in enumerate(unique_urls)}\n",
    "    \n",
    "    return urls_dict"
   ]
  },
  {
   "cell_type": "markdown",
   "metadata": {},
   "source": [
    "После получения всех ссылок на товары, парсер просматривает каждую из них и находит элемены HTML, которые соответствуют требуемым характеристикам. Для каждого товара создается словарь \"info\""
   ]
  },
  {
   "cell_type": "code",
   "execution_count": 8,
   "metadata": {},
   "outputs": [],
   "source": [
    "def get_info(url):\n",
    "    driver = uc.Chrome()\n",
    "    driver.implicitly_wait(5)\n",
    "    \n",
    "    try:\n",
    "        driver.get(url=url)\n",
    "        time.sleep(2)\n",
    "        page_down(driver=driver)\n",
    "        time.sleep(2)\n",
    "\n",
    "        page_source = str(driver.page_source)\n",
    "        soup = BeautifulSoup(page_source, features=\"lxml\")\n",
    "\n",
    "        info = {}\n",
    "        \n",
    "        price = soup.find_all('div', {'class': 'JfVCK'})\n",
    "        info['price'] = int(price[0].text.replace('\\xa0', '').replace('₽', '').replace(' ', '')) if price else None\n",
    "        \n",
    "        adress = soup.find_all('span', {'class': 'ItUnT', 'itemprop': 'name'})\n",
    "        info['adress'] = str(adress[0].text.replace('\\xa0', '').replace(' ', '')) if adress else None\n",
    "        \n",
    "        info_app = soup.find('section', attrs={'class': 'product-page__section', 'data-e2e-id': 'product-details'})\n",
    "        if info_app:\n",
    "            app_name = info_app.find_all('span', {'class': 'gqoOy'})\n",
    "            app_info = info_app.find_all('span', {'class': 'ffG_w', 'data-e2e-id': 'Значение'})\n",
    "            for i in range(min(len(app_name), len(app_info))):\n",
    "                info[f'{app_name[i].text}'] = app_info[i].text\n",
    "        else:\n",
    "            print(f\"Характеристики квартиры не найдены на странице: {url}\")\n",
    "    \n",
    "        info_house = soup.find('section', attrs={'class': '_Xcv2', 'data-e2e-id': 'building-info-block'})\n",
    "        if info_house:\n",
    "            house_name = info_house.find_all('span', {'class': 'sQK5j'})\n",
    "            house_info = info_house.find_all('span', {'class': 'upbHP', 'data-e2e-id': 'Значение'})\n",
    "            for i in range(min(len(house_name), len(house_info))):\n",
    "                info[f'{house_name[i].text}'] = house_info[i].text\n",
    "        else:\n",
    "            print(f\"Информация о доме не найдена на странице: {url}\")\n",
    "\n",
    "        df = pd.DataFrame([info])\n",
    "        return df\n",
    "\n",
    "    except Exception as e:\n",
    "        print(f\"Ошибка при обработке {url}: {e}\")\n",
    "        return pd.DataFrame()\n",
    "\n",
    "    finally:\n",
    "        driver.quit()"
   ]
  },
  {
   "cell_type": "markdown",
   "metadata": {},
   "source": [
    "Непосредственно выполнение работы парсера. Каждый словарь с характеристиками объединяется в датафрейм, созавая цельную выборку, далее сохраняя результат в 'data.csv' как промежуточный результат"
   ]
  },
  {
   "cell_type": "code",
   "execution_count": 9,
   "metadata": {},
   "outputs": [
    {
     "name": "stdout",
     "output_type": "stream",
     "text": [
      "Обработано: 1/121\n",
      "Обработано: 2/121\n",
      "Обработано: 3/121\n",
      "Обработано: 4/121\n",
      "Обработано: 5/121\n",
      "Обработано: 6/121\n",
      "Обработано: 7/121\n",
      "Обработано: 8/121\n",
      "Обработано: 9/121\n",
      "Обработано: 10/121\n",
      "Обработано: 11/121\n",
      "Обработано: 12/121\n",
      "Обработано: 13/121\n",
      "Обработано: 14/121\n",
      "Обработано: 15/121\n",
      "Обработано: 16/121\n",
      "Обработано: 17/121\n",
      "Обработано: 18/121\n",
      "Обработано: 19/121\n",
      "Обработано: 20/121\n",
      "Характеристики квартиры не найдены на странице: https://vladivostok.domclick.ru/card/sale__flat__2059732727\n",
      "Обработано: 21/121\n",
      "Обработано: 22/121\n",
      "Обработано: 23/121\n",
      "Обработано: 24/121\n",
      "Обработано: 25/121\n",
      "Обработано: 26/121\n",
      "Обработано: 27/121\n",
      "Обработано: 28/121\n",
      "Обработано: 29/121\n",
      "Обработано: 30/121\n",
      "Обработано: 31/121\n",
      "Обработано: 32/121\n",
      "Обработано: 33/121\n",
      "Характеристики квартиры не найдены на странице: https://vladivostok.domclick.ru/card/sale__flat__2060258089\n",
      "Обработано: 34/121\n",
      "Обработано: 35/121\n",
      "Обработано: 36/121\n",
      "Обработано: 37/121\n",
      "Обработано: 38/121\n",
      "Обработано: 39/121\n",
      "Обработано: 40/121\n",
      "Обработано: 41/121\n",
      "Обработано: 42/121\n",
      "Обработано: 43/121\n",
      "Обработано: 44/121\n",
      "Обработано: 45/121\n",
      "Обработано: 46/121\n",
      "Обработано: 47/121\n",
      "Обработано: 48/121\n",
      "Характеристики квартиры не найдены на странице: https://vladivostok.domclick.ru/card/sale__flat__2059025397\n",
      "Обработано: 49/121\n",
      "Обработано: 50/121\n",
      "Обработано: 51/121\n",
      "Обработано: 52/121\n",
      "Обработано: 53/121\n",
      "Обработано: 54/121\n",
      "Обработано: 55/121\n",
      "Обработано: 56/121\n",
      "Обработано: 57/121\n",
      "Обработано: 58/121\n",
      "Обработано: 59/121\n",
      "Обработано: 60/121\n",
      "Обработано: 61/121\n",
      "Обработано: 62/121\n",
      "Обработано: 63/121\n",
      "Обработано: 64/121\n",
      "Характеристики квартиры не найдены на странице: https://vladivostok.domclick.ru/card/sale__flat__1406758644\n",
      "Обработано: 65/121\n",
      "Обработано: 66/121\n",
      "Характеристики квартиры не найдены на странице: https://vladivostok.domclick.ru/card/sale__flat__2060449535\n",
      "Обработано: 67/121\n",
      "Обработано: 68/121\n",
      "Обработано: 69/121\n",
      "Обработано: 70/121\n",
      "Обработано: 71/121\n",
      "Обработано: 72/121\n",
      "Обработано: 73/121\n",
      "Характеристики квартиры не найдены на странице: https://vladivostok.domclick.ru/card/sale__flat__2055953056\n",
      "Обработано: 74/121\n",
      "Обработано: 75/121\n",
      "Характеристики квартиры не найдены на странице: https://vladivostok.domclick.ru/card/sale__flat__2060474865\n",
      "Обработано: 76/121\n",
      "Обработано: 77/121\n",
      "Обработано: 78/121\n",
      "Обработано: 79/121\n",
      "Характеристики квартиры не найдены на странице: https://vladivostok.domclick.ru/card/sale__flat__2060242544\n",
      "Обработано: 80/121\n",
      "Обработано: 81/121\n",
      "Обработано: 82/121\n",
      "Обработано: 83/121\n",
      "Обработано: 84/121\n",
      "Обработано: 85/121\n",
      "Обработано: 86/121\n",
      "Обработано: 87/121\n",
      "Обработано: 88/121\n",
      "Обработано: 89/121\n",
      "Обработано: 90/121\n",
      "Обработано: 91/121\n",
      "Обработано: 92/121\n",
      "Характеристики квартиры не найдены на странице: https://vladivostok.domclick.ru/card/sale__flat__2060581774\n",
      "Обработано: 93/121\n",
      "Обработано: 94/121\n",
      "Обработано: 95/121\n",
      "Обработано: 96/121\n",
      "Обработано: 97/121\n",
      "Обработано: 98/121\n",
      "Обработано: 99/121\n",
      "Обработано: 100/121\n",
      "Обработано: 101/121\n",
      "Обработано: 102/121\n",
      "Обработано: 103/121\n",
      "Характеристики квартиры не найдены на странице: https://vladivostok.domclick.ru/card/sale__flat__2059920172\n",
      "Обработано: 104/121\n",
      "Обработано: 105/121\n",
      "Характеристики квартиры не найдены на странице: https://vladivostok.domclick.ru/card/sale__flat__2060581776\n",
      "Обработано: 106/121\n",
      "Обработано: 107/121\n",
      "Обработано: 108/121\n",
      "Обработано: 109/121\n",
      "Обработано: 110/121\n",
      "Обработано: 111/121\n",
      "Обработано: 112/121\n",
      "Обработано: 113/121\n",
      "Обработано: 114/121\n",
      "Обработано: 115/121\n",
      "Характеристики квартиры не найдены на странице: https://vladivostok.domclick.ru/card/sale__flat__1935303584\n",
      "Информация о доме не найдена на странице: https://vladivostok.domclick.ru/card/sale__flat__1935303584\n",
      "Обработано: 116/121\n",
      "Обработано: 117/121\n",
      "Характеристики квартиры не найдены на странице: https://vladivostok.domclick.ru/card/sale__flat__2061367109\n",
      "Обработано: 118/121\n",
      "Обработано: 119/121\n",
      "Обработано: 120/121\n"
     ]
    },
    {
     "name": "stderr",
     "output_type": "stream",
     "text": [
      "C:\\Users\\Valkorion_Lap\\AppData\\Local\\Temp\\ipykernel_29420\\227051982.py:10: FutureWarning: Starting with pandas version 3.0 all arguments of to_csv except for the argument 'path_or_buf' will be keyword-only.\n",
      "  df = pd.concat(data, ignore_index=True).to_csv('data.csv', 'w')\n"
     ]
    }
   ],
   "source": [
    "url = 'https://vladivostok.domclick.ru/pokupka/kvartiry/vtorichka'\n",
    "dict_urls = get_urls(url)\n",
    "\n",
    "data = []\n",
    "for i in range(len(dict_urls)):\n",
    "    data_house = get_info(dict_urls[i])\n",
    "    data.append(data_house)\n",
    "    print(f'Обработано: {i + 1}/{len(dict_urls) + 1}')\n",
    "\n",
    "df = pd.concat(data, ignore_index=True).to_csv('data.csv', 'w')\n"
   ]
  },
  {
   "cell_type": "markdown",
   "metadata": {},
   "source": [
    "Следом идет преобразование стобца с адресом"
   ]
  },
  {
   "cell_type": "code",
   "execution_count": 62,
   "metadata": {},
   "outputs": [],
   "source": [
    "import re\n",
    "\n",
    "\n",
    "df['adress'] = df['adress'].str.replace(',', ', ')\n",
    "\n",
    "def format_address(address):\n",
    "    address = re.sub(r'улица', ' улица ', address)\n",
    "    address = re.sub(r'проспект', ' проспект ', address)\n",
    "    address = re.sub(r'бульвар', ' бульвар ', address)\n",
    "    address = re.sub(r'переулок', ' переулок ', address)\n",
    "    address = re.sub(r'шоссе', ' шоссе ', address)\n",
    "    address = re.sub(r'проезд', ' проезд ', address)\n",
    "    address = re.sub(r'площадь', ' площадь ', address)\n",
    "    address = re.sub(r'набережная', ' набережная ', address)\n",
    "    \n",
    "    address = re.sub(r'\\s+', ' ', address)\n",
    "    \n",
    "    return address.strip()\n",
    "\n",
    "df['adress'] = df['adress'].apply(format_address)\n"
   ]
  },
  {
   "cell_type": "code",
   "execution_count": 63,
   "metadata": {},
   "outputs": [],
   "source": [
    "def fix_address(address):\n",
    "    address = re.sub(r'([а-яё])([А-ЯЁ])', r'\\1 \\2', address)\n",
    "    \n",
    "    address = re.sub(r'(\\d+[а-яА-Я]*)\\S*', r'\\1', address)\n",
    "    \n",
    "    return address\n",
    "\n",
    "df['adress'] = df['adress'].apply(fix_address)"
   ]
  },
  {
   "cell_type": "code",
   "execution_count": 64,
   "metadata": {},
   "outputs": [],
   "source": [
    "def format_address(address):\n",
    "    formatted_address = re.sub(r'(\\d+[а-яА-Я]*).*', r'\\1', address)\n",
    "    return formatted_address\n",
    "\n",
    "df['adress'] = df['adress'].apply(format_address)\n",
    "df['adress'] = df['adress'].str.replace(' ,', ',')"
   ]
  },
  {
   "cell_type": "markdown",
   "metadata": {},
   "source": [
    "И использование измененного столбца для получения координат каждой квартиры"
   ]
  },
  {
   "cell_type": "code",
   "execution_count": 65,
   "metadata": {},
   "outputs": [],
   "source": [
    "import time\n",
    "from geopy.geocoders import Nominatim\n",
    "\n",
    "\n",
    "def get_coordinate(address):\n",
    "    geolocator = Nominatim(user_agent=\"Yandex\", timeout=10)\n",
    "    time.sleep(1) \n",
    "    try:\n",
    "        location = geolocator.geocode(address)\n",
    "        if location:\n",
    "            return [location.latitude, location.longitude]\n",
    "        else:\n",
    "            return [None, None]\n",
    "    except Exception as e:\n",
    "        print(f\"Произошла ошибка: {e}\")\n",
    "        return [None, None]\n",
    "\n",
    "\n",
    "df['coordinates'] = df['adress'].apply(get_coordinate)\n",
    "df[['latitude', 'longitude']] = pd.DataFrame(df['coordinates'].tolist(), index=df.index)\n",
    "\n",
    "df.drop(columns=['coordinates'], inplace=True)\n"
   ]
  },
  {
   "cell_type": "code",
   "execution_count": 72,
   "metadata": {},
   "outputs": [],
   "source": [
    "df['Кухня'] = df['Кухня'].str.replace('м2', '').str.replace(',', '.').astype(float)\n"
   ]
  },
  {
   "cell_type": "code",
   "execution_count": 75,
   "metadata": {},
   "outputs": [],
   "source": [
    "columns_translation = {\n",
    "    'price': 'price',  # Цена\n",
    "    'adress': 'address',  # Адрес\n",
    "    'Комнат': 'rooms',  # Количество комнат\n",
    "    'Площадь': 'area',  # Площадь\n",
    "    'Кухня': 'kitchen_area',  # Площадь кухни\n",
    "    'Этаж': 'floor',  # Этаж\n",
    "    'Ремонт': 'renovation',  # Тип ремонта\n",
    "    'Тип сделки': 'deal_type',  # Тип сделки\n",
    "    'Балкон': 'balcony',  # Балкон\n",
    "    'Мусоропровод': 'trash_chute',  # Мусоропровод\n",
    "    'Лет в собственности': 'years_in_ownership',  # Лет в собственности\n",
    "    'Количество собственников': 'number_of_owners',  # Количество собственников\n",
    "    'Класс энергоэффективности': 'energy_efficiency_class',  # Класс энергоэффективности\n",
    "    'Энергоснабжение': 'power_supply',  # Энергоснабжение\n",
    "    'Количество лифтов': 'number_of_elevators',  # Количество лифтов\n",
    "    'Вентиляция': 'ventilation',  # Вентиляция\n",
    "    'Грузовой лифт': 'freight_elevator',  # Грузовой лифт\n",
    "    'Газ': 'gas_supply',  # Газоснабжение\n",
    "    'latitude': 'latitude',  # Широта\n",
    "    'longitude': 'longitude'  # Долгота\n",
    "}\n",
    "\n",
    "df.rename(columns=columns_translation, inplace=True)\n"
   ]
  },
  {
   "cell_type": "markdown",
   "metadata": {},
   "source": [
    "Сохранение итогового варианта, готового к ETL в файл 'data_1.csv'"
   ]
  },
  {
   "cell_type": "code",
   "execution_count": 77,
   "metadata": {},
   "outputs": [],
   "source": [
    "df.to_csv('data_1.csv')"
   ]
  },
  {
   "cell_type": "code",
   "execution_count": null,
   "metadata": {},
   "outputs": [],
   "source": []
  }
 ],
 "metadata": {
  "kernelspec": {
   "display_name": "Python 3",
   "language": "python",
   "name": "python3"
  },
  "language_info": {
   "codemirror_mode": {
    "name": "ipython",
    "version": 3
   },
   "file_extension": ".py",
   "mimetype": "text/x-python",
   "name": "python",
   "nbconvert_exporter": "python",
   "pygments_lexer": "ipython3",
   "version": "3.12.5"
  }
 },
 "nbformat": 4,
 "nbformat_minor": 2
}
